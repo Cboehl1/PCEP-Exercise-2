{
 "cells": [
  {
   "cell_type": "markdown",
   "metadata": {},
   "source": [
    "## Exercises\n",
    "### Write the pseudocode for these problems. \n",
    "\n",
    "#### Define the problem by constructing an IPO diagram showing input, output, and processing steps\n",
    "Ask yourself\n",
    "- What control structures (sequence, selection and repetition) are required?\n",
    "- What variables are required?\n",
    "\n",
    "Show a check of your solution with **test data** for at least **two valid test cases**\n",
    "If you use the numbers provided in the example then the correct pseudocode will calculate the same result.\n",
    "    "
   ]
  },
  {
   "cell_type": "markdown",
   "metadata": {},
   "source": [
    "#### 1. Daily Process\n",
    "Every day, a researcher receives 15 measurements. He needs a program written that will accept each measurement and convert it to its metric equivalent (from inches to millimeters). The result shall display on the monitor. After all 15 measurements are entered, the words \"All measurements processed\" shall be displayed on the screen."
   ]
  },
  {
   "cell_type": "markdown",
   "metadata": {},
   "source": [
    "    BEGIN\n",
    "        Loop 15 times\n",
    "             prompt user for measurement (inches)\n",
    "             Calculation_mm = measurement * 25.4 \n",
    "             Display Calculation_mm\n",
    "        end loop\n",
    "        Display \"All measurements processed\"\n",
    "    END"
   ]
  },
  {
   "cell_type": "markdown",
   "metadata": {},
   "source": [
    "#### 2. Elictricity Usage Report\n",
    "An electricity supply authority records on an electricity usage file the amount of electricity that each customer uses.\n",
    "\n",
    "This file consists of:\n",
    "\n",
    "    1. a header record (first record), which provides the total kilowatt hours used during the month by all customers\n",
    "    2. a number of detail records, each containing the customer number, customer name and electricity usage (in kilowatt hours) for the month.\n",
    "    \n",
    "Design a solution algorithm that will read the electricity usage file and produce an electricity usage report showing the customer number, customer name, electricity usage and the amount owing. The amount owing is calculated at 11 cents for each kilowatt hour used, up to 200 hours, and 8 cents for each kilowatt hour used over 200 hours.\n",
    "\n",
    "The report should also display the total electricity usage in kilowatt hours."
   ]
  },
  {
   "cell_type": "markdown",
   "metadata": {},
   "source": [
    "    BEGIN\n",
    "        set line number = 2\n",
    "        LOOP (line number) <= (end file line number)\n",
    "            read file for customer account line/DB\n",
    "                Customer Number = account number in file\n",
    "                Name = Name record in file\n",
    "                Usage = Usage in file\n",
    "            If usage <=200\n",
    "                Amount_due = usage * .11\n",
    "            Else \n",
    "                Amount_due = (200 * .11) + ( (usage-200) * .08)\n",
    "            EndIF\n",
    "            Display\n",
    "                Customer Number\n",
    "                Customer Name\n",
    "                Usage (in KW)\n",
    "                Amount Due\n",
    "                \n",
    "        END LOOP\n",
    "    END"
   ]
  },
  {
   "cell_type": "markdown",
   "metadata": {},
   "source": [
    "#### 3. Calculate Fence Cost \n",
    "You've just been hired by Alton's Hardware Store. Your job is to develop a tool which will allow his customers to calculate the cost for installing a fence. Start by determining the algorithm to calculate the cost of installing the fence.\n",
    "\n",
    "Create a program that will calculate the cost with tax of fencing a rectangular yard. The cost of the fencing will depend on the amount of fencing required (the perimeter of the yard), and the type of fencing used. Gates can are available for an additional cost.At least one gate is required.\n",
    "\n",
    "Prices (including installation):\n",
    "\n",
    "    1. Wooden fencing costs 25 dollars per foot\n",
    "    2. Chain-link fencing costs 15 dollars per foot\n",
    "    3. Gates cost 150 dollars each. You must install at least one gate and can install up to 3    \n",
    "    4. A building permit is required. It costs 50 dollars\n",
    "    5. The tax rate is 6.0% but it doesn't apply to the building permit"
   ]
  },
  {
   "cell_type": "markdown",
   "metadata": {},
   "source": [
    "    BEGIN\n",
    "        Get width of yard (in feet)\n",
    "        Get Length of yard (in Feet)\n",
    "        Get number of gates (1-3)\n",
    "        Get Type of fence (wood, chain-link)\n",
    "        Total_fence = (width * 2) + (length * 2)\n",
    "            IF wooden\n",
    "                Fence_cost = Total_fence * 25\n",
    "            ELSE\n",
    "                Fence_cost = Total_fence * 15\n",
    "            ENDIF\n",
    "        Building_permit_cost = 50\n",
    "        Gate_cost = Gates * 150\n",
    "        Tax = (Gate_cost + Fence_cost) * .06\n",
    "        Sum = Fence_cost + Gate_cost + Building_permit_cost + Tax\n",
    "        Display\n",
    "            Total_fence (dimensions)\n",
    "            Fence_cost\n",
    "            Gate_cost\n",
    "            Tax\n",
    "            Building_permit_cost\n",
    "            Sum\n",
    "    END\n",
    "    \n",
    "    *Assumption made this is just rectangular lot, no reduction in dimension for house if one, i think better input would be to just get total dimmension of fencing.  In description stated calculate cost of rectangular yard."
   ]
  }
 ],
 "metadata": {
  "kernelspec": {
   "display_name": "Python 3",
   "language": "python",
   "name": "python3"
  },
  "language_info": {
   "codemirror_mode": {
    "name": "ipython",
    "version": 3
   },
   "file_extension": ".py",
   "mimetype": "text/x-python",
   "name": "python",
   "nbconvert_exporter": "python",
   "pygments_lexer": "ipython3",
   "version": "3.8.3"
  }
 },
 "nbformat": 4,
 "nbformat_minor": 2
}
